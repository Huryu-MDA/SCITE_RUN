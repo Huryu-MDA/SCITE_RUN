{
 "cells": [
  {
   "cell_type": "code",
   "execution_count": 1,
   "id": "35556840",
   "metadata": {},
   "outputs": [],
   "source": [
    "import sys, os\n",
    "import numpy as np\n",
    "import pandas as pd"
   ]
  },
  {
   "cell_type": "code",
   "execution_count": 5,
   "id": "740085ed",
   "metadata": {},
   "outputs": [],
   "source": [
    "target_tsv = sys.argv[1]\n",
    "target_tsv = \"test_data.tsv\"\n",
    "\n",
    "prefix_timeID = sys.argv[2]\n",
    "prefix_timeID = \"test_data\"\n",
    "\n",
    "output_tsv = \"processed_\" + prefix_timeID + \".tsv\"\n",
    "output_VariantList = \"mutList_\" + prefix_timeID + \".tsv\"\n",
    "output_sampleList = \"sampleList_\" + prefix_timeID + \".tsv\"\n",
    "output_NxM = \"NxM_\" + prefix_timeID\n",
    "\n",
    "# genotype set\n",
    "GT_set = {0, 1, 2, 3}"
   ]
  },
  {
   "cell_type": "code",
   "execution_count": 6,
   "id": "d26695e2",
   "metadata": {},
   "outputs": [],
   "source": [
    "df = pd.read_csv(target_tsv,sep =\"\\t\")"
   ]
  },
  {
   "cell_type": "code",
   "execution_count": 8,
   "id": "93b63418",
   "metadata": {},
   "outputs": [],
   "source": [
    "Var_annot = [\"Chr\", \"Start\", \"End\", \"Ref\", \"Alt\", \n",
    "             \"Func.knownGene\", \"Gene.knownGene\", \"GeneDetail.knownGene\", \"ExonicFunc.knownGene\"]\n",
    "df_var = df[Var_annot].copy()"
   ]
  },
  {
   "cell_type": "code",
   "execution_count": 9,
   "id": "778b9ef7",
   "metadata": {},
   "outputs": [],
   "source": [
    "cell_list = [col for col in df.columns if (col != \"KT\") and (set(df[col]) <= GT_set)]"
   ]
  },
  {
   "cell_type": "code",
   "execution_count": 10,
   "id": "e09dc3bb",
   "metadata": {},
   "outputs": [],
   "source": [
    "sample_num = len(cell_list)\n",
    "var_num = len(df)\n",
    "#print(sample_num, var_num)"
   ]
  },
  {
   "cell_type": "code",
   "execution_count": 11,
   "id": "68d0b61a",
   "metadata": {},
   "outputs": [],
   "source": [
    "df_samples = df[cell_list].copy()"
   ]
  },
  {
   "cell_type": "code",
   "execution_count": 12,
   "id": "96e439ce",
   "metadata": {},
   "outputs": [],
   "source": [
    "#df_samples.head()"
   ]
  },
  {
   "cell_type": "code",
   "execution_count": 14,
   "id": "90183b68",
   "metadata": {},
   "outputs": [],
   "source": [
    "df_samples.to_csv(output_tsv, sep =\"\\t\", header = False, index = False)\n",
    "\n",
    "for cell_name in cell_list:\n",
    "    print(cell_name, file=open(output_sampleList, \"a\"))\n",
    "    \n",
    "df_var.to_csv(output_VariantList, sep = \"\\t\", index = False, header = False)\n",
    "print(str(var_num) + \"\\t\" + str(sample_num), file=open(output_NxM, \"w\"))"
   ]
  }
 ],
 "metadata": {
  "kernelspec": {
   "display_name": "Python 3 (ipykernel)",
   "language": "python",
   "name": "python3"
  },
  "language_info": {
   "codemirror_mode": {
    "name": "ipython",
    "version": 3
   },
   "file_extension": ".py",
   "mimetype": "text/x-python",
   "name": "python",
   "nbconvert_exporter": "python",
   "pygments_lexer": "ipython3",
   "version": "3.8.5"
  }
 },
 "nbformat": 4,
 "nbformat_minor": 5
}
