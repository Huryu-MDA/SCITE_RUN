{
 "cells": [
  {
   "cell_type": "code",
   "execution_count": 1,
   "id": "3a00b931",
   "metadata": {},
   "outputs": [],
   "source": [
    "import sys, os\n",
    "import numpy as np\n",
    "import pandas as pd"
   ]
  },
  {
   "cell_type": "code",
   "execution_count": 4,
   "id": "7af91437",
   "metadata": {},
   "outputs": [],
   "source": [
    "target_tsv = sys.argv[1]\n",
    "target_tsv = \"test_data.tsv\"\n",
    "\n",
    "prefix_timeID = sys.argv[2]\n",
    "prefix_timeID = \"test_data\"\n",
    "\n",
    "output_tsv = \"processed_\" + prefix_timeID + \".tsv\"\n",
    "output_VariantList = \"\"\n",
    "output_sampleList = \"\"\n",
    "output_NxM = \"NxM_\" + prefix_timeID"
   ]
  },
  {
   "cell_type": "code",
   "execution_count": null,
   "id": "0cb9a880",
   "metadata": {},
   "outputs": [],
   "source": [
    "df = pd.read_csv(target_tsv,sep =\"\\t\")\n",
    "\n",
    "\n",
    "df_header = df.columns\n",
    "sample_list = [[ind, col] for ind, col in enumerate(df_header) if col[:] == XXXXXXX]\n",
    "\n",
    "sample_num = len(sample_list)\n",
    "var_num = len(df)\n",
    "\n",
    "df_samples = df.iloc[:, sample_list[0][0]:]\n",
    "\n",
    "df_samples.to_csv(, sep =\"\\t\")\n",
    "\n",
    "\n",
    "for sample in sample_list:\n",
    "    print(sample, file=open(output_sampleList, \"a\"))\n",
    "    \n",
    "    \n",
    "\n",
    "\n",
    "print(str(var_num) + \"\\t\" + str(sample_num), file=open(output_NxM, w))"
   ]
  }
 ],
 "metadata": {
  "kernelspec": {
   "display_name": "Python 3 (ipykernel)",
   "language": "python",
   "name": "python3"
  },
  "language_info": {
   "codemirror_mode": {
    "name": "ipython",
    "version": 3
   },
   "file_extension": ".py",
   "mimetype": "text/x-python",
   "name": "python",
   "nbconvert_exporter": "python",
   "pygments_lexer": "ipython3",
   "version": "3.8.5"
  }
 },
 "nbformat": 4,
 "nbformat_minor": 5
}
